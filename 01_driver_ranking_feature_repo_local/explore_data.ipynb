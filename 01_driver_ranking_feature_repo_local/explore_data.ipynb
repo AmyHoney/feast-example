{
 "cells": [
  {
   "cell_type": "markdown",
   "metadata": {},
   "source": [
    "# Step 0: Install packages\n"
   ]
  },
  {
   "cell_type": "code",
   "execution_count": 26,
   "metadata": {},
   "outputs": [
    {
     "name": "stdout",
     "output_type": "stream",
     "text": [
      "Requirement already satisfied: feast==0.29.0 in /opt/conda/lib/python3.8/site-packages (0.29.0)\n",
      "Requirement already satisfied: grpcio<2,>=1.47.0 in /opt/conda/lib/python3.8/site-packages (from feast==0.29.0) (1.51.1)\n",
      "Requirement already satisfied: numpy<3,>=1.22 in /opt/conda/lib/python3.8/site-packages (from feast==0.29.0) (1.22.4)\n",
      "Requirement already satisfied: Jinja2<4,>=2 in /opt/conda/lib/python3.8/site-packages (from feast==0.29.0) (3.1.2)\n",
      "Requirement already satisfied: pandavro~=1.5.0 in /opt/conda/lib/python3.8/site-packages (from feast==0.29.0) (1.5.2)\n",
      "Requirement already satisfied: pydantic<2,>=1 in /opt/conda/lib/python3.8/site-packages (from feast==0.29.0) (1.10.5)\n",
      "Requirement already satisfied: typeguard in /opt/conda/lib/python3.8/site-packages (from feast==0.29.0) (2.13.3)\n",
      "Requirement already satisfied: SQLAlchemy[mypy]<2,>1 in /opt/conda/lib/python3.8/site-packages (from feast==0.29.0) (1.4.46)\n",
      "Requirement already satisfied: fastapi<1,>=0.68.0 in /opt/conda/lib/python3.8/site-packages (from feast==0.29.0) (0.92.0)\n",
      "Requirement already satisfied: google-api-core<3,>=1.23.0 in /opt/conda/lib/python3.8/site-packages (from feast==0.29.0) (2.10.2)\n",
      "Requirement already satisfied: mmh3 in /opt/conda/lib/python3.8/site-packages (from feast==0.29.0) (3.0.0)\n",
      "Requirement already satisfied: jsonschema in /opt/conda/lib/python3.8/site-packages (from feast==0.29.0) (3.2.0)\n",
      "Requirement already satisfied: uvicorn[standard]<1,>=0.14.0 in /opt/conda/lib/python3.8/site-packages (from feast==0.29.0) (0.20.0)\n",
      "Requirement already satisfied: tqdm<5,>=4 in /opt/conda/lib/python3.8/site-packages (from feast==0.29.0) (4.64.1)\n",
      "Requirement already satisfied: googleapis-common-protos<2,>=1.52.0 in /opt/conda/lib/python3.8/site-packages (from feast==0.29.0) (1.56.4)\n",
      "Requirement already satisfied: pandas<2,>=1.4.3 in /opt/conda/lib/python3.8/site-packages (from feast==0.29.0) (1.5.3)\n",
      "Requirement already satisfied: bowler in /opt/conda/lib/python3.8/site-packages (from feast==0.29.0) (0.9.0)\n",
      "Requirement already satisfied: click<9.0.0,>=7.0.0 in /opt/conda/lib/python3.8/site-packages (from feast==0.29.0) (7.1.2)\n",
      "Requirement already satisfied: proto-plus<2,>=1.20.0 in /opt/conda/lib/python3.8/site-packages (from feast==0.29.0) (1.22.2)\n",
      "Requirement already satisfied: protobuf<5,>3 in /opt/conda/lib/python3.8/site-packages (from feast==0.29.0) (4.22.0)\n",
      "Requirement already satisfied: pyarrow<9,>=4 in /opt/conda/lib/python3.8/site-packages (from feast==0.29.0) (8.0.0)\n",
      "Requirement already satisfied: dask>=2021.1.0 in /opt/conda/lib/python3.8/site-packages (from feast==0.29.0) (2023.2.0)\n",
      "Requirement already satisfied: tabulate<1,>=0.8.0 in /opt/conda/lib/python3.8/site-packages (from feast==0.29.0) (0.9.0)\n",
      "Requirement already satisfied: dill~=0.3.0 in /opt/conda/lib/python3.8/site-packages (from feast==0.29.0) (0.3.4)\n",
      "Requirement already satisfied: grpcio-reflection<2,>=1.47.0 in /opt/conda/lib/python3.8/site-packages (from feast==0.29.0) (1.51.1)\n",
      "Requirement already satisfied: tenacity<9,>=7 in /opt/conda/lib/python3.8/site-packages (from feast==0.29.0) (8.2.1)\n",
      "Requirement already satisfied: toml<1,>=0.10.0 in /opt/conda/lib/python3.8/site-packages (from feast==0.29.0) (0.10.2)\n",
      "Requirement already satisfied: pygments<3,>=2.12.0 in /opt/conda/lib/python3.8/site-packages (from feast==0.29.0) (2.13.0)\n",
      "Requirement already satisfied: colorama<1,>=0.3.9 in /opt/conda/lib/python3.8/site-packages (from feast==0.29.0) (0.4.5)\n",
      "Requirement already satisfied: httpx>=0.23.3 in /opt/conda/lib/python3.8/site-packages (from feast==0.29.0) (0.23.3)\n",
      "Requirement already satisfied: fastavro<2,>=1.1.0 in /opt/conda/lib/python3.8/site-packages (from feast==0.29.0) (1.7.1)\n",
      "Requirement already satisfied: PyYAML<7,>=5.4.0 in /opt/conda/lib/python3.8/site-packages (from feast==0.29.0) (5.4.1)\n",
      "Requirement already satisfied: cloudpickle>=1.1.1 in /opt/conda/lib/python3.8/site-packages (from dask>=2021.1.0->feast==0.29.0) (1.6.0)\n",
      "Requirement already satisfied: toolz>=0.8.2 in /opt/conda/lib/python3.8/site-packages (from dask>=2021.1.0->feast==0.29.0) (0.12.0)\n",
      "Requirement already satisfied: packaging>=20.0 in /opt/conda/lib/python3.8/site-packages (from dask>=2021.1.0->feast==0.29.0) (21.3)\n",
      "Requirement already satisfied: fsspec>=0.6.0 in /opt/conda/lib/python3.8/site-packages (from dask>=2021.1.0->feast==0.29.0) (2023.1.0)\n",
      "Requirement already satisfied: partd>=0.3.10 in /opt/conda/lib/python3.8/site-packages (from dask>=2021.1.0->feast==0.29.0) (1.3.0)\n",
      "Requirement already satisfied: starlette<0.26.0,>=0.25.0 in /opt/conda/lib/python3.8/site-packages (from fastapi<1,>=0.68.0->feast==0.29.0) (0.25.0)\n",
      "Requirement already satisfied: google-auth<3.0dev,>=1.25.0 in /opt/conda/lib/python3.8/site-packages (from google-api-core<3,>=1.23.0->feast==0.29.0) (1.35.0)\n",
      "Requirement already satisfied: requests<3.0.0dev,>=2.18.0 in /opt/conda/lib/python3.8/site-packages (from google-api-core<3,>=1.23.0->feast==0.29.0) (2.28.1)\n",
      "Requirement already satisfied: sniffio in /opt/conda/lib/python3.8/site-packages (from httpx>=0.23.3->feast==0.29.0) (1.3.0)\n",
      "Requirement already satisfied: certifi in /opt/conda/lib/python3.8/site-packages (from httpx>=0.23.3->feast==0.29.0) (2022.9.24)\n",
      "Requirement already satisfied: rfc3986[idna2008]<2,>=1.3 in /opt/conda/lib/python3.8/site-packages (from httpx>=0.23.3->feast==0.29.0) (1.5.0)\n",
      "Requirement already satisfied: httpcore<0.17.0,>=0.15.0 in /opt/conda/lib/python3.8/site-packages (from httpx>=0.23.3->feast==0.29.0) (0.16.3)\n",
      "Requirement already satisfied: MarkupSafe>=2.0 in /opt/conda/lib/python3.8/site-packages (from Jinja2<4,>=2->feast==0.29.0) (2.1.1)\n",
      "Requirement already satisfied: python-dateutil>=2.8.1 in /opt/conda/lib/python3.8/site-packages (from pandas<2,>=1.4.3->feast==0.29.0) (2.8.2)\n",
      "Requirement already satisfied: pytz>=2020.1 in /opt/conda/lib/python3.8/site-packages (from pandas<2,>=1.4.3->feast==0.29.0) (2022.4)\n",
      "Requirement already satisfied: six>=1.9 in /opt/conda/lib/python3.8/site-packages (from pandavro~=1.5.0->feast==0.29.0) (1.15.0)\n",
      "Requirement already satisfied: typing-extensions>=4.2.0 in /opt/conda/lib/python3.8/site-packages (from pydantic<2,>=1->feast==0.29.0) (4.5.0)\n",
      "Requirement already satisfied: greenlet!=0.4.17 in /opt/conda/lib/python3.8/site-packages (from SQLAlchemy[mypy]<2,>1->feast==0.29.0) (2.0.2)\n",
      "Requirement already satisfied: sqlalchemy2-stubs in /opt/conda/lib/python3.8/site-packages (from SQLAlchemy[mypy]<2,>1->feast==0.29.0) (0.0.2a32)\n",
      "Requirement already satisfied: mypy>=0.910 in /opt/conda/lib/python3.8/site-packages (from SQLAlchemy[mypy]<2,>1->feast==0.29.0) (1.0.1)\n",
      "Requirement already satisfied: h11>=0.8 in /opt/conda/lib/python3.8/site-packages (from uvicorn[standard]<1,>=0.14.0->feast==0.29.0) (0.14.0)\n",
      "Requirement already satisfied: websockets>=10.4 in /opt/conda/lib/python3.8/site-packages (from uvicorn[standard]<1,>=0.14.0->feast==0.29.0) (10.4)\n",
      "Requirement already satisfied: uvloop!=0.15.0,!=0.15.1,>=0.14.0 in /opt/conda/lib/python3.8/site-packages (from uvicorn[standard]<1,>=0.14.0->feast==0.29.0) (0.17.0)\n",
      "Requirement already satisfied: python-dotenv>=0.13 in /opt/conda/lib/python3.8/site-packages (from uvicorn[standard]<1,>=0.14.0->feast==0.29.0) (0.21.1)\n",
      "Requirement already satisfied: watchfiles>=0.13 in /opt/conda/lib/python3.8/site-packages (from uvicorn[standard]<1,>=0.14.0->feast==0.29.0) (0.18.1)\n",
      "Requirement already satisfied: httptools>=0.5.0 in /opt/conda/lib/python3.8/site-packages (from uvicorn[standard]<1,>=0.14.0->feast==0.29.0) (0.5.0)\n",
      "Requirement already satisfied: fissix in /opt/conda/lib/python3.8/site-packages (from bowler->feast==0.29.0) (21.11.13)\n",
      "Requirement already satisfied: attrs in /opt/conda/lib/python3.8/site-packages (from bowler->feast==0.29.0) (22.1.0)\n",
      "Requirement already satisfied: volatile in /opt/conda/lib/python3.8/site-packages (from bowler->feast==0.29.0) (2.1.0)\n",
      "Requirement already satisfied: moreorless>=0.2.0 in /opt/conda/lib/python3.8/site-packages (from bowler->feast==0.29.0) (0.4.0)\n",
      "Requirement already satisfied: setuptools in /opt/conda/lib/python3.8/site-packages (from jsonschema->feast==0.29.0) (65.4.1)\n",
      "Requirement already satisfied: pyrsistent>=0.14.0 in /opt/conda/lib/python3.8/site-packages (from jsonschema->feast==0.29.0) (0.18.1)\n",
      "Requirement already satisfied: pyasn1-modules>=0.2.1 in /opt/conda/lib/python3.8/site-packages (from google-auth<3.0dev,>=1.25.0->google-api-core<3,>=1.23.0->feast==0.29.0) (0.2.8)\n",
      "Requirement already satisfied: rsa<5,>=3.1.4 in /opt/conda/lib/python3.8/site-packages (from google-auth<3.0dev,>=1.25.0->google-api-core<3,>=1.23.0->feast==0.29.0) (4.9)\n",
      "Requirement already satisfied: cachetools<5.0,>=2.0.0 in /opt/conda/lib/python3.8/site-packages (from google-auth<3.0dev,>=1.25.0->google-api-core<3,>=1.23.0->feast==0.29.0) (4.2.4)\n",
      "Requirement already satisfied: anyio<5.0,>=3.0 in /opt/conda/lib/python3.8/site-packages (from httpcore<0.17.0,>=0.15.0->httpx>=0.23.3->feast==0.29.0) (3.6.1)\n",
      "Requirement already satisfied: mypy-extensions>=0.4.3 in /opt/conda/lib/python3.8/site-packages (from mypy>=0.910->SQLAlchemy[mypy]<2,>1->feast==0.29.0) (1.0.0)\n",
      "Requirement already satisfied: tomli>=1.1.0 in /opt/conda/lib/python3.8/site-packages (from mypy>=0.910->SQLAlchemy[mypy]<2,>1->feast==0.29.0) (2.0.1)\n",
      "Requirement already satisfied: pyparsing!=3.0.5,>=2.0.2 in /opt/conda/lib/python3.8/site-packages (from packaging>=20.0->dask>=2021.1.0->feast==0.29.0) (3.0.9)\n",
      "Requirement already satisfied: locket in /opt/conda/lib/python3.8/site-packages (from partd>=0.3.10->dask>=2021.1.0->feast==0.29.0) (1.0.0)\n",
      "Requirement already satisfied: idna<4,>=2.5 in /opt/conda/lib/python3.8/site-packages (from requests<3.0.0dev,>=2.18.0->google-api-core<3,>=1.23.0->feast==0.29.0) (3.4)\n",
      "Requirement already satisfied: charset-normalizer<3,>=2 in /opt/conda/lib/python3.8/site-packages (from requests<3.0.0dev,>=2.18.0->google-api-core<3,>=1.23.0->feast==0.29.0) (2.1.1)\n",
      "Requirement already satisfied: urllib3<1.27,>=1.21.1 in /opt/conda/lib/python3.8/site-packages (from requests<3.0.0dev,>=2.18.0->google-api-core<3,>=1.23.0->feast==0.29.0) (1.26.11)\n",
      "Requirement already satisfied: appdirs in /opt/conda/lib/python3.8/site-packages (from fissix->bowler->feast==0.29.0) (1.4.4)\n",
      "Requirement already satisfied: pyasn1<0.5.0,>=0.4.6 in /opt/conda/lib/python3.8/site-packages (from pyasn1-modules>=0.2.1->google-auth<3.0dev,>=1.25.0->google-api-core<3,>=1.23.0->feast==0.29.0) (0.4.8)\n",
      "Requirement already satisfied: scikit-learn in /opt/conda/lib/python3.8/site-packages (0.24.2)\n",
      "Requirement already satisfied: numpy>=1.13.3 in /opt/conda/lib/python3.8/site-packages (from scikit-learn) (1.22.4)\n",
      "Requirement already satisfied: joblib>=0.11 in /opt/conda/lib/python3.8/site-packages (from scikit-learn) (1.2.0)\n",
      "Requirement already satisfied: scipy>=0.19.1 in /opt/conda/lib/python3.8/site-packages (from scikit-learn) (1.7.0)\n",
      "Requirement already satisfied: threadpoolctl>=2.0.0 in /opt/conda/lib/python3.8/site-packages (from scikit-learn) (3.1.0)\n"
     ]
    }
   ],
   "source": [
    "!pip install feast==0.29.0\n",
    "!pip install scikit-learn"
   ]
  },
  {
   "cell_type": "code",
   "execution_count": 27,
   "metadata": {},
   "outputs": [
    {
     "name": "stdout",
     "output_type": "stream",
     "text": [
      "Feast SDK Version: \"feast 0.29.0\"\n"
     ]
    }
   ],
   "source": [
    "!feast version"
   ]
  },
  {
   "cell_type": "markdown",
   "metadata": {},
   "source": [
    "# Step 1: Exploring the data \n",
    "This is a set of time-series data with `driver_id` as the primary key (representing the driver entity) and `event_timestamp` as showing when the event happened."
   ]
  },
  {
   "cell_type": "code",
   "execution_count": null,
   "metadata": {},
   "outputs": [
    {
     "data": {
      "text/html": [
       "<div>\n",
       "<style scoped>\n",
       "    .dataframe tbody tr th:only-of-type {\n",
       "        vertical-align: middle;\n",
       "    }\n",
       "\n",
       "    .dataframe tbody tr th {\n",
       "        vertical-align: top;\n",
       "    }\n",
       "\n",
       "    .dataframe thead th {\n",
       "        text-align: right;\n",
       "    }\n",
       "</style>\n",
       "<table border=\"1\" class=\"dataframe\">\n",
       "  <thead>\n",
       "    <tr style=\"text-align: right;\">\n",
       "      <th></th>\n",
       "      <th>event_timestamp</th>\n",
       "      <th>driver_id</th>\n",
       "      <th>conv_rate</th>\n",
       "      <th>acc_rate</th>\n",
       "      <th>created</th>\n",
       "      <th>day</th>\n",
       "      <th>miles_driven</th>\n",
       "      <th>daily_miles_driven</th>\n",
       "    </tr>\n",
       "  </thead>\n",
       "  <tbody>\n",
       "    <tr>\n",
       "      <th>0</th>\n",
       "      <td>2022-02-27 15:00:00+00:00</td>\n",
       "      <td>1005</td>\n",
       "      <td>0.142214</td>\n",
       "      <td>0.408987</td>\n",
       "      <td>2022-03-14 15:21:25.842</td>\n",
       "      <td>2022-02-27</td>\n",
       "      <td>24.817618</td>\n",
       "      <td>150.587752</td>\n",
       "    </tr>\n",
       "    <tr>\n",
       "      <th>1</th>\n",
       "      <td>2022-02-27 16:00:00+00:00</td>\n",
       "      <td>1005</td>\n",
       "      <td>0.349267</td>\n",
       "      <td>0.734021</td>\n",
       "      <td>2022-03-14 15:21:25.842</td>\n",
       "      <td>2022-02-27</td>\n",
       "      <td>8.293352</td>\n",
       "      <td>150.587752</td>\n",
       "    </tr>\n",
       "    <tr>\n",
       "      <th>2</th>\n",
       "      <td>2022-02-27 17:00:00+00:00</td>\n",
       "      <td>1005</td>\n",
       "      <td>0.358805</td>\n",
       "      <td>0.366804</td>\n",
       "      <td>2022-03-14 15:21:25.842</td>\n",
       "      <td>2022-02-27</td>\n",
       "      <td>8.316672</td>\n",
       "      <td>150.587752</td>\n",
       "    </tr>\n",
       "    <tr>\n",
       "      <th>3</th>\n",
       "      <td>2022-02-27 18:00:00+00:00</td>\n",
       "      <td>1005</td>\n",
       "      <td>0.611828</td>\n",
       "      <td>0.773883</td>\n",
       "      <td>2022-03-14 15:21:25.842</td>\n",
       "      <td>2022-02-27</td>\n",
       "      <td>10.566458</td>\n",
       "      <td>150.587752</td>\n",
       "    </tr>\n",
       "    <tr>\n",
       "      <th>4</th>\n",
       "      <td>2022-02-27 19:00:00+00:00</td>\n",
       "      <td>1005</td>\n",
       "      <td>0.156503</td>\n",
       "      <td>0.966413</td>\n",
       "      <td>2022-03-14 15:21:25.842</td>\n",
       "      <td>2022-02-27</td>\n",
       "      <td>15.664332</td>\n",
       "      <td>150.587752</td>\n",
       "    </tr>\n",
       "    <tr>\n",
       "      <th>...</th>\n",
       "      <td>...</td>\n",
       "      <td>...</td>\n",
       "      <td>...</td>\n",
       "      <td>...</td>\n",
       "      <td>...</td>\n",
       "      <td>...</td>\n",
       "      <td>...</td>\n",
       "      <td>...</td>\n",
       "    </tr>\n",
       "    <tr>\n",
       "      <th>1802</th>\n",
       "      <td>2022-03-14 11:00:00+00:00</td>\n",
       "      <td>1001</td>\n",
       "      <td>0.667961</td>\n",
       "      <td>0.211051</td>\n",
       "      <td>2022-03-14 15:21:25.842</td>\n",
       "      <td>2022-03-14</td>\n",
       "      <td>40.500185</td>\n",
       "      <td>350.650257</td>\n",
       "    </tr>\n",
       "    <tr>\n",
       "      <th>1803</th>\n",
       "      <td>2022-03-14 12:00:00+00:00</td>\n",
       "      <td>1001</td>\n",
       "      <td>0.209861</td>\n",
       "      <td>0.672022</td>\n",
       "      <td>2022-03-14 15:21:25.842</td>\n",
       "      <td>2022-03-14</td>\n",
       "      <td>21.341177</td>\n",
       "      <td>350.650257</td>\n",
       "    </tr>\n",
       "    <tr>\n",
       "      <th>1804</th>\n",
       "      <td>2022-03-14 13:00:00+00:00</td>\n",
       "      <td>1001</td>\n",
       "      <td>0.215754</td>\n",
       "      <td>0.791849</td>\n",
       "      <td>2022-03-14 15:21:25.842</td>\n",
       "      <td>2022-03-14</td>\n",
       "      <td>8.068214</td>\n",
       "      <td>350.650257</td>\n",
       "    </tr>\n",
       "    <tr>\n",
       "      <th>1805</th>\n",
       "      <td>2022-03-14 14:00:00+00:00</td>\n",
       "      <td>1001</td>\n",
       "      <td>0.404588</td>\n",
       "      <td>0.407571</td>\n",
       "      <td>2022-03-14 15:21:25.842</td>\n",
       "      <td>2022-03-14</td>\n",
       "      <td>46.533292</td>\n",
       "      <td>350.650257</td>\n",
       "    </tr>\n",
       "    <tr>\n",
       "      <th>1806</th>\n",
       "      <td>2021-04-12 07:00:00+00:00</td>\n",
       "      <td>1001</td>\n",
       "      <td>0.521149</td>\n",
       "      <td>0.751659</td>\n",
       "      <td>2022-03-14 15:21:25.842</td>\n",
       "      <td>2021-04-12</td>\n",
       "      <td>18.926695</td>\n",
       "      <td>18.926695</td>\n",
       "    </tr>\n",
       "  </tbody>\n",
       "</table>\n",
       "<p>1807 rows × 8 columns</p>\n",
       "</div>"
      ],
      "text/plain": [
       "               event_timestamp  driver_id  conv_rate  acc_rate  \\\n",
       "0    2022-02-27 15:00:00+00:00       1005   0.142214  0.408987   \n",
       "1    2022-02-27 16:00:00+00:00       1005   0.349267  0.734021   \n",
       "2    2022-02-27 17:00:00+00:00       1005   0.358805  0.366804   \n",
       "3    2022-02-27 18:00:00+00:00       1005   0.611828  0.773883   \n",
       "4    2022-02-27 19:00:00+00:00       1005   0.156503  0.966413   \n",
       "...                        ...        ...        ...       ...   \n",
       "1802 2022-03-14 11:00:00+00:00       1001   0.667961  0.211051   \n",
       "1803 2022-03-14 12:00:00+00:00       1001   0.209861  0.672022   \n",
       "1804 2022-03-14 13:00:00+00:00       1001   0.215754  0.791849   \n",
       "1805 2022-03-14 14:00:00+00:00       1001   0.404588  0.407571   \n",
       "1806 2021-04-12 07:00:00+00:00       1001   0.521149  0.751659   \n",
       "\n",
       "                     created         day  miles_driven  daily_miles_driven  \n",
       "0    2022-03-14 15:21:25.842  2022-02-27     24.817618          150.587752  \n",
       "1    2022-03-14 15:21:25.842  2022-02-27      8.293352          150.587752  \n",
       "2    2022-03-14 15:21:25.842  2022-02-27      8.316672          150.587752  \n",
       "3    2022-03-14 15:21:25.842  2022-02-27     10.566458          150.587752  \n",
       "4    2022-03-14 15:21:25.842  2022-02-27     15.664332          150.587752  \n",
       "...                      ...         ...           ...                 ...  \n",
       "1802 2022-03-14 15:21:25.842  2022-03-14     40.500185          350.650257  \n",
       "1803 2022-03-14 15:21:25.842  2022-03-14     21.341177          350.650257  \n",
       "1804 2022-03-14 15:21:25.842  2022-03-14      8.068214          350.650257  \n",
       "1805 2022-03-14 15:21:25.842  2022-03-14     46.533292          350.650257  \n",
       "1806 2022-03-14 15:21:25.842  2021-04-12     18.926695           18.926695  \n",
       "\n",
       "[1807 rows x 8 columns]"
      ]
     },
     "execution_count": 1,
     "metadata": {},
     "output_type": "execute_result"
    }
   ],
   "source": [
    "import pandas as pd\n",
    "pd.read_parquet(\"infra/driver_stats.parquet\")"
   ]
  },
  {
   "cell_type": "markdown",
   "metadata": {},
   "source": [
    "# Step 1: Setup the feature repo\n",
    "The first thing a platform team needs to do is setup a feature_store.yaml file within a version controlled repo like GitHub. `feature_store.yaml` is the primary way to configure an overall Feast project. We've setup a sample feature repository in `feature_repo_local/`"
   ]
  },
  {
   "cell_type": "markdown",
   "metadata": {},
   "source": [
    "## Step 1a: Run feast plan\n",
    "With the `feature_store.yaml` setup, you can now run feast plan to see what changes would happen with `feast apply`.\n",
    "\n"
   ]
  },
  {
   "cell_type": "code",
   "execution_count": 6,
   "metadata": {},
   "outputs": [
    {
     "name": "stdout",
     "output_type": "stream",
     "text": [
      "Created entity \u001b[1m\u001b[32mdriver\u001b[0m\n",
      "Created feature view \u001b[1m\u001b[32mdriver_hourly_stats\u001b[0m\n",
      "Created feature service \u001b[1m\u001b[32mmodel_v1\u001b[0m\n",
      "Created feature service \u001b[1m\u001b[32mmodel_v2\u001b[0m\n",
      "\n",
      "\u001b[1m\u001b[94mNo changes to infrastructure\n"
     ]
    }
   ],
   "source": [
    "!cd /home/jovyan/feature_repo_local/ && feast plan"
   ]
  },
  {
   "cell_type": "markdown",
   "metadata": {},
   "source": [
    "## Step 1b: Run feast apply\n",
    "Now run `feast apply`.\n",
    "\n",
    "This will parse the feature, data source, and feature service definitions and publish them to the registry. It may also setup some tables in the online store to materialize batch features to (in this case, we set the online store to null so no online store changes will occur)."
   ]
  },
  {
   "cell_type": "code",
   "execution_count": 8,
   "metadata": {},
   "outputs": [
    {
     "name": "stdout",
     "output_type": "stream",
     "text": [
      "Created entity \u001b[1m\u001b[32mdriver\u001b[0m\n",
      "Created feature view \u001b[1m\u001b[32mdriver_hourly_stats\u001b[0m\n",
      "Created feature service \u001b[1m\u001b[32mmodel_v1\u001b[0m\n",
      "Created feature service \u001b[1m\u001b[32mmodel_v2\u001b[0m\n",
      "\n",
      "Deploying infrastructure for \u001b[1m\u001b[32mdriver_hourly_stats\u001b[0m\n"
     ]
    }
   ],
   "source": [
    "!cd /home/jovyan/feature_repo_local/ && feast apply"
   ]
  },
  {
   "cell_type": "markdown",
   "metadata": {},
   "source": [
    "## Step 1c: Verify features are registered\n",
    "You can now run Feast CLI commands to verify Feast knows about your features and data sources.\n",
    "\n"
   ]
  },
  {
   "cell_type": "code",
   "execution_count": 9,
   "metadata": {},
   "outputs": [
    {
     "name": "stdout",
     "output_type": "stream",
     "text": [
      "NAME                 ENTITIES    TYPE\n",
      "driver_hourly_stats  {'driver'}  FeatureView\n"
     ]
    }
   ],
   "source": [
    "!cd /home/jovyan/feature_repo_local/ && feast feature-views list"
   ]
  },
  {
   "cell_type": "markdown",
   "metadata": {},
   "source": [
    "# Step 2 ML Engineers fetch features\n",
    "ML engineers can use the defined FeatureService (corresponding to model versions) and schedule regular jobs that generate batch predictions (or regularly retrain)."
   ]
  },
  {
   "cell_type": "markdown",
   "metadata": {},
   "source": [
    "## Step 0: Understanding `get_historical_features` and feature services\n",
    "`get_historical_features` is an API by which you can retrieve features (by referencing features directly or via feature services). It will under the hood manage point-in-time joins and avoid data leakage to generate training datasets or power batch scoring.\n",
    "\n",
    "For batch scoring, you want to get the latest feature values for your entities. Feast requires timestamps in `get_historical_features`, so what you'll need to do is append an event timestamp of now(). Don't bother running this code right now since we'll run this in the next step."
   ]
  },
  {
   "cell_type": "code",
   "execution_count": 16,
   "metadata": {},
   "outputs": [
    {
     "name": "stdout",
     "output_type": "stream",
     "text": [
      "----- Feature schema -----\n",
      "\n",
      "<class 'pandas.core.frame.DataFrame'>\n",
      "RangeIndex: 5 entries, 0 to 4\n",
      "Data columns (total 4 columns):\n",
      " #   Column           Non-Null Count  Dtype              \n",
      "---  ------           --------------  -----              \n",
      " 0   driver_id        5 non-null      int64              \n",
      " 1   event_timestamp  5 non-null      datetime64[ns, UTC]\n",
      " 2   conv_rate        5 non-null      float32            \n",
      " 3   acc_rate         5 non-null      float32            \n",
      "dtypes: datetime64[ns, UTC](1), float32(2), int64(1)\n",
      "memory usage: 248.0 bytes\n",
      "None\n",
      "\n",
      "----- Example features -----\n",
      "\n",
      "   driver_id                  event_timestamp  conv_rate  acc_rate\n",
      "0       1002 2023-02-21 05:49:57.993076+00:00   0.465875  0.315721\n",
      "1       1005 2023-02-21 05:49:57.993076+00:00   0.394072  0.046118\n",
      "2       1003 2023-02-21 05:49:57.993076+00:00   0.869917  0.779562\n",
      "3       1001 2023-02-21 05:49:57.993076+00:00   0.404588  0.407571\n",
      "4       1004 2023-02-21 05:49:57.993076+00:00   0.977276  0.051582\n"
     ]
    }
   ],
   "source": [
    "import pandas as pd\n",
    "from feast import FeatureStore\n",
    "from feast.repo_config import RegistryConfig\n",
    "\n",
    "# Get the latest feature values for unique entities\n",
    "entity_df = pd.DataFrame.from_dict({\"driver_id\": [1001, 1002, 1003, 1004, 1005],})\n",
    "entity_df[\"event_timestamp\"] = pd.to_datetime('now', utc=True)\n",
    "\n",
    "# Connect to your feature store provider\n",
    "store = FeatureStore(repo_path=\"/home/jovyan/feature_repo_local\")\n",
    "\n",
    "# Because we're using the default FileOfflineStore, this executes on your machine\n",
    "training_df = store.get_historical_features(\n",
    "    entity_df=entity_df, \n",
    "    features=store.get_feature_service(\"model_v2\"),\n",
    ").to_df()\n",
    "\n",
    "print(\"----- Feature schema -----\\n\")\n",
    "print(training_df.info())\n",
    "\n",
    "print()\n",
    "print(\"----- Example features -----\\n\")\n",
    "print(training_df.head())"
   ]
  },
  {
   "cell_type": "markdown",
   "metadata": {},
   "source": [
    "## Step 1: Fetch feature by `driver_orders.csv` data to train model\n",
    "\n"
   ]
  },
  {
   "cell_type": "code",
   "execution_count": 21,
   "metadata": {},
   "outputs": [
    {
     "name": "stdout",
     "output_type": "stream",
     "text": [
      "            event_timestamp  driver_id  trip_completed\n",
      "0 2021-04-16 20:29:28+00:00       1001               1\n",
      "1 2021-04-17 04:29:28+00:00       1002               0\n",
      "2 2021-04-17 12:29:28+00:00       1003               0\n",
      "3 2021-04-17 20:29:28+00:00       1001               1\n",
      "4 2021-04-18 04:29:28+00:00       1002               0\n",
      "5 2021-04-18 12:29:28+00:00       1003               0\n",
      "6 2021-04-18 20:29:28+00:00       1001               1\n",
      "7 2021-04-19 04:29:28+00:00       1002               0\n",
      "8 2021-04-19 12:29:28+00:00       1003               0\n",
      "9 2021-04-19 20:29:28+00:00       1004               1\n"
     ]
    }
   ],
   "source": [
    "import feast\n",
    "from joblib import dump\n",
    "import pandas as pd\n",
    "from sklearn.linear_model import LinearRegression\n",
    "\n",
    "# Load driver order data, when orders give to entity_df, it shows 0 entries  \n",
    "orders = pd.read_csv(\"driver_orders.csv\", sep=\"\\t\")\n",
    "orders[\"event_timestamp\"] = pd.to_datetime(orders[\"event_timestamp\"])\n",
    "print(orders)"
   ]
  },
  {
   "cell_type": "code",
   "execution_count": 19,
   "metadata": {},
   "outputs": [
    {
     "name": "stdout",
     "output_type": "stream",
     "text": [
      "----- Feature schema -----\n",
      "\n",
      "<class 'pandas.core.frame.DataFrame'>\n",
      "RangeIndex: 10 entries, 0 to 9\n",
      "Data columns (total 5 columns):\n",
      " #   Column           Non-Null Count  Dtype              \n",
      "---  ------           --------------  -----              \n",
      " 0   event_timestamp  10 non-null     datetime64[ns, UTC]\n",
      " 1   driver_id        10 non-null     int64              \n",
      " 2   trip_completed   10 non-null     int64              \n",
      " 3   conv_rate        10 non-null     float32            \n",
      " 4   acc_rate         10 non-null     float32            \n",
      "dtypes: datetime64[ns, UTC](1), float32(2), int64(2)\n",
      "memory usage: 448.0 bytes\n",
      "None\n",
      "\n",
      "----- Example features -----\n",
      "\n",
      "            event_timestamp  driver_id  trip_completed  conv_rate  acc_rate\n",
      "0 2021-04-16 20:29:28+00:00       1001               1   0.521149  0.751659\n",
      "1 2021-04-17 04:29:28+00:00       1002               0   0.089014  0.212637\n",
      "2 2021-04-17 12:29:28+00:00       1003               0   0.188855  0.344736\n",
      "3 2021-04-17 20:29:28+00:00       1001               1   0.521149  0.751659\n",
      "4 2021-04-18 04:29:28+00:00       1002               0   0.089014  0.212637\n"
     ]
    }
   ],
   "source": [
    "# Connect to your feature store provider\n",
    "store = FeatureStore(repo_path=\"/home/jovyan/feature_repo_local\")\n",
    "\n",
    "# Because we're using the default FileOfflineStore, this executes on your machine\n",
    "training_df = store.get_historical_features(\n",
    "    entity_df=orders, \n",
    "    features=store.get_feature_service(\"model_v2\"),\n",
    ").to_df()\n",
    "\n",
    "print(\"----- Feature schema -----\\n\")\n",
    "print(training_df.info())\n",
    "\n",
    "print()\n",
    "print(\"----- Example features -----\\n\")\n",
    "print(training_df.head())"
   ]
  },
  {
   "cell_type": "code",
   "execution_count": 22,
   "metadata": {},
   "outputs": [
    {
     "data": {
      "text/plain": [
       "['driver_model.bin']"
      ]
     },
     "execution_count": 22,
     "metadata": {},
     "output_type": "execute_result"
    }
   ],
   "source": [
    "# Train model\n",
    "target = \"trip_completed\"\n",
    "\n",
    "reg = LinearRegression()\n",
    "train_X = training_df[training_df.columns.drop(target).drop(\"event_timestamp\")]\n",
    "train_Y = training_df.loc[:, target]\n",
    "reg.fit(train_X[sorted(train_X)], train_Y)\n",
    "\n",
    "# Save model\n",
    "dump(reg, \"driver_model.bin\")"
   ]
  },
  {
   "cell_type": "code",
   "execution_count": null,
   "metadata": {},
   "outputs": [],
   "source": []
  }
 ],
 "metadata": {
  "interpreter": {
   "hash": "7d634b9af180bcb32a446a43848522733ff8f5bbf0cc46dba1a83bede04bf237"
  },
  "kernelspec": {
   "display_name": "Python 3 (ipykernel)",
   "language": "python",
   "name": "python3"
  },
  "language_info": {
   "codemirror_mode": {
    "name": "ipython",
    "version": 3
   },
   "file_extension": ".py",
   "mimetype": "text/x-python",
   "name": "python",
   "nbconvert_exporter": "python",
   "pygments_lexer": "ipython3",
   "version": "3.8.10"
  }
 },
 "nbformat": 4,
 "nbformat_minor": 4
}
